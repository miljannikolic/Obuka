{
 "cells": [
  {
   "cell_type": "code",
   "execution_count": 3,
   "id": "08f70209",
   "metadata": {},
   "outputs": [
    {
     "ename": "ModuleNotFoundError",
     "evalue": "No module named 'pygame'",
     "output_type": "error",
     "traceback": [
      "\u001b[1;31m---------------------------------------------------------------------------\u001b[0m",
      "\u001b[1;31mModuleNotFoundError\u001b[0m                       Traceback (most recent call last)",
      "Cell \u001b[1;32mIn[3], line 1\u001b[0m\n\u001b[1;32m----> 1\u001b[0m \u001b[38;5;28;01mimport\u001b[39;00m \u001b[38;5;21;01mpygame\u001b[39;00m \u001b[38;5;28;01mas\u001b[39;00m \u001b[38;5;21;01mpg\u001b[39;00m\n\u001b[0;32m      2\u001b[0m pg\u001b[38;5;241m.\u001b[39minit()\n\u001b[0;32m      3\u001b[0m prozor \u001b[38;5;241m=\u001b[39m pg\u001b[38;5;241m.\u001b[39mdisplay\u001b[38;5;241m.\u001b[39mset_mode((\u001b[38;5;241m400\u001b[39m, \u001b[38;5;241m400\u001b[39m))\n",
      "\u001b[1;31mModuleNotFoundError\u001b[0m: No module named 'pygame'"
     ]
    }
   ],
   "source": [
    "import pygame as pg\n",
    "pg.init()\n",
    "prozor = pg.display.set_mode((400, 400))\n",
    "pg.display.set_caption(\"Ovčar i Kablar\")\n",
    "prozor.fill(pg.Color(\"skyblue\")) #NEBO\n",
    "#SUNCE\n",
    "pg.draw.circle(prozor, pg.Color(\"yellow\"), (300, 80), 70)\n",
    "#OBLAK\n",
    "pg.draw.circle(prozor, pg.Color(\"white\"), (250, 150), 60)\n",
    "pg.draw.circle(prozor, pg.Color(\"white\"), (195, 150), 35)\n",
    "pg.draw.circle(prozor, pg.Color(\"white\"), (305, 150), 35)\n",
    "#OVČAR\n",
    "temena1 = ((0,400), (125,200), (275,400))\n",
    "pg.draw.polygon(prozor, pg.Color(\"darkgreen\"), temena1)\n",
    "#KABLAR\n",
    "temena2 = ((150,400), (280,270), (400,400))\n",
    "pg.draw.polygon(prozor, pg.Color(\"darkgreen\"), temena2)\n",
    "#REPETITOR\n",
    "pg.draw.line(prozor, pg.Color(\"black\"), (125, 202),(125, 160), 2)\n",
    "pg.display.update()\n",
    "while pg.event.wait().type != pg.QUIT:\n",
    "    pass\n",
    "pg.quit()\n",
    "\n",
    "\n",
    "\n",
    "\n"
   ]
  },
  {
   "cell_type": "code",
   "execution_count": null,
   "id": "23817d8f",
   "metadata": {},
   "outputs": [],
   "source": []
  }
 ],
 "metadata": {
  "kernelspec": {
   "display_name": "Python 3 (ipykernel)",
   "language": "python",
   "name": "python3"
  },
  "language_info": {
   "codemirror_mode": {
    "name": "ipython",
    "version": 3
   },
   "file_extension": ".py",
   "mimetype": "text/x-python",
   "name": "python",
   "nbconvert_exporter": "python",
   "pygments_lexer": "ipython3",
   "version": "3.11.5"
  }
 },
 "nbformat": 4,
 "nbformat_minor": 5
}
